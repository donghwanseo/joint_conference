{
 "cells": [
  {
   "cell_type": "markdown",
   "metadata": {},
   "source": [
    "## DeepLesion: automated mining of large-scale lesion annotations and universal lesion detection with deep learning\n",
    "### Ke Yan$^{a}$, Xiaosong Wang$^{a}$, Le Lu$^{b}$, Ronald M. Summers$^{a}$\n",
    "#### $^{a}$ National Institutes of Health, Clinical Center, Imaging Biomarkers and Computer-Aided Diagnosis Laboratory, Bethesda, Maryland, United States\n",
    "#### $^{b}$ National Institutes of Health, Clinical Center, Clinical Image Processing Service, Radiology and Imaging Sciences, Bethesda, Maryland, United States\n",
    "\n",
    " Journal of Medical Imaging\n",
    " \n",
    " Paper 18043R received Mar. 7, 2018; accepted for publication Jun. 14, 2018.\n",
    " \n",
    "---"
   ]
  },
  {
   "cell_type": "markdown",
   "metadata": {},
   "source": [
    "## INTRODUCTION\n",
    "### 현상황\n",
    "1. 의료영상분석에 필요한 대규모 주석 데이터(Large-scale annotated image) 부족 \n",
    "    - 임상 전문 지식이 요구됨\n",
    "2. 현재 종양 감지(lesion detection)를 위해 존재하는 알고리즘들은 하나의 종양을 타겟으로 함\n",
    "3. 다양한 카테고리의 종양 데이터셋 부족\n",
    "    - 종양은 전이성을 지니고 있어 지역 림프절이나 다른 신체 부위로 퍼질 수 있음\n",
    "    \n",
    "    \n",
    "### 논문에서의 시도\n",
    "1. 최소한의 작업으로 PACS의 Bookmark에서 종양 주석을 수집하는 패러다임을 도입\n",
    "2. 이 데이터 세트를 사용하여 하나의 통일된 프레임워크로 모든 유형의 종양을 찾을 수 있는 자동 종양 감지 알고리즘을 개발"
   ]
  },
  {
   "cell_type": "markdown",
   "metadata": {},
   "source": [
    "## Materials and Methods\n",
    "\n",
    "### Bookmarks\n",
    "방사선 전문의들은 영상 이미지를 보고 임상적 주석을 달고 측정한다."
   ]
  },
  {
   "cell_type": "markdown",
   "metadata": {},
   "source": [
    "![bookmark](./resource/bookmark.png)"
   ]
  },
  {
   "cell_type": "markdown",
   "metadata": {},
   "source": [
    "bookmark는 화살표, 선, 타원, RECIST 직경, 분할 및 텍스트 등이 주석 도구로 사용된다.\n",
    "\n",
    ">RECIST-diameter\n",
    ">- 두개의 선으로 구성\n",
    ">- 하나는 병변에서 가장 긴 직경을 측정\n",
    ">- 다른 하나는 측정면에서 가장 긴 직경을 측정\n",
    ">- 병변의 정확한 위치와 크기를 알수 있음\n",
    "\n",
    "선, 타원, 텍스트 또는 화살표 북마크의 경우 병변의 대략적인 위치를 유추할 수 있지만 정확한 위치 또는 크기를 사용할 수 없다.\n"
   ]
  },
  {
   "cell_type": "markdown",
   "metadata": {},
   "source": [
    "### Data Set\n",
    "* Bookmark가 가장 많은 영상인 CT를 선정\n",
    "* 주석 도구는 RECIST-diameter만 고려\n",
    "* 4,427명의 환자를 대상으로 한 10,594건의 CT사진에서 32,120개의 Deeplesion 데이터셋 이용\n",
    "* PACS업체가 제공해주는 Perl script를 이용하여 Bookmark를 데이터로 변환\n",
    "\n",
    "* DICOM파일을 MATLAB을 이용하여 16bit png파일로 변환\n",
    "\n",
    "* DICOM파일의 속성 중 Image Position Patient정보를 이용하여 각 정점의 좌표를 픽셀 간격으로 나눔\n",
    "    - 변수 : **SPACING_MM_PX**\n",
    "    - https://dicom.innolitics.com/ciods/ct-image/image-plane/00200032\n",
    "* **SLICE INDEX**는 머리부터 발끝까지 증가하도록 설정\n",
    "* **BOUNDING BOX**는 RECIST diameter에서 5 pixel을 padding하여 생성 \n",
    "* **NOISE**는 Bookmark입력시 사용자 오류로 인해 잘못된 좌표 반환 및 다른 방사선 전문의에 의해 중복기입으로 발생\n",
    "\n",
    "![Measurement](./resource/Measurement.png)"
   ]
  },
  {
   "cell_type": "markdown",
   "metadata": {},
   "source": [
    "### Data statistics\n",
    "* CT slice의 간격은 0.25 ~ 22.5mm이나, 48.3%는 1mm, 48.9%는 5mm로 되어있음\n",
    "* **IMAGE SIZE**는 대부분이 512 $\\times$ 512이나 0.12%는 768 $\\times$ 768 또는 1024 $\\times$ 1024로 되어있음 \n",
    "* 병변은 총 9816개가 있으며, 폐(2426), 복부(2166), 종격(1638), 간(1318), 골반(869), 연조직(677), 신장(490), 뼈(232)로 이루어져 있음"
   ]
  },
  {
   "cell_type": "markdown",
   "metadata": {},
   "source": [
    "### Image Preprocessing\n",
    "Hounsfield unit 값에 대한 강도 윈도우 설정을 수행\n",
    ">※ Hounsfield unit : 방사선량을 설명하기 위한 정량적 척도\n",
    ">$$HU = 1000 \\times \\frac{\\mu - \\mu_{water}}{\\mu_{water} - \\mu_{air}}$$\n",
    ">\n",
    ">- 선형 감쇠 계수(μ)는 흡수체의 두께 당 X선에서 감쇠 된 광자의 비율을 나타내는 상수\n",
    ">- $\\mu_{water}$ 와 $\\mu_{air}$는 각각 물과 공기의 선형 감쇠 계수\n",
    "> https://radiopaedia.org/articles/linear-attenuation-coefficient?lang=us\n",
    "\n",
    "> ※ Windowing (CT)\n",
    ">\n",
    "> grey-level mapping, contrast stretching, histogram modification, contrast enhancement라고도 하며, grey-scale요소가 CT number에 의해 조작되는 과정이다. \n",
    ">\n",
    "> 이렇게 하면 사진의 모양이 특정 구조를 강조하기 위해 변경된다. 영상의 밝기는 Window level을 통해 조정된다. 대비는 Window width를 통해 조정된다.\n",
    "> https://radiopaedia.org/articles/windowing-ct"
   ]
  },
  {
   "cell_type": "markdown",
   "metadata": {},
   "source": [
    "## Network architecture\n",
    "![arch](./resource/map.png)"
   ]
  },
  {
   "cell_type": "markdown",
   "metadata": {},
   "source": [
    "## Result\n",
    "free receiver operating characteristic (FROC) curve\n",
    "* 이미지에 평균 5개의 FP가 있을 때 민감도는 81.1%에 도달\n",
    "![froc](./resource/froc.png)"
   ]
  },
  {
   "cell_type": "markdown",
   "metadata": {},
   "source": [
    "### Limitations\n",
    "* 종양 분할 및 3차원 경계상자, 미세 병변 Type\n",
    "* CT 이미지에는 대표적인 종양만 표시 되었으므로, 일부 CT이미지에는 종양이 있음에도 주석이 없다.\n",
    "    -건강한 피험자의 데이터 추가"
   ]
  }
 ],
 "metadata": {
  "kernelspec": {
   "display_name": "Python 3",
   "language": "python",
   "name": "python3"
  },
  "language_info": {
   "codemirror_mode": {
    "name": "ipython",
    "version": 3
   },
   "file_extension": ".py",
   "mimetype": "text/x-python",
   "name": "python",
   "nbconvert_exporter": "python",
   "pygments_lexer": "ipython3",
   "version": "3.7.3"
  }
 },
 "nbformat": 4,
 "nbformat_minor": 2
}
