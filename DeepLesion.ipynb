{
 "cells": [
  {
   "cell_type": "markdown",
   "metadata": {},
   "source": [
    "## DeepLesion: automated mining of large-scale lesion annotations and universal lesion detection with deep learning\n",
    "### Ke Yan$^{a}$, Xiaosong Wang$^{a}$, Le Lu$^{b}$, Ronald M. Summers$^{a}$\n",
    "#### $^{a}$ National Institutes of Health, Clinical Center, Imaging Biomarkers and Computer-Aided Diagnosis Laboratory, Bethesda, Maryland, United States\n",
    "#### $^{b}$ National Institutes of Health, Clinical Center, Clinical Image Processing Service, Radiology and Imaging Sciences, Bethesda, Maryland, United States\n",
    "\n",
    " Journal of Medical Imaging\n",
    " \n",
    " Paper 18043R received Mar. 7, 2018; accepted for publication Jun. 14, 2018.\n",
    " \n",
    "---"
   ]
  },
  {
   "cell_type": "markdown",
   "metadata": {},
   "source": [
    "## 개요\n",
    "현재 병변 감지(lesion detection)를 위해 존재하는 알고리즘들은 하나의 병변을 타겟으로 한다.\n",
    "* 종양은 전이성을 지니고 있어 지역 림프절이나 다른 신체 부위로 퍼질 가능성 존재\n",
    "\n",
    "![CT](./resource/image/multi_lesion.png)\n",
    "\n",
    "## 논문에서의 시도\n",
    "1. 최소한의 작업으로 PACS의 Bookmark에서 병변 주석을 수집하는 패러다임을 도입\n",
    "2. 이 데이터 세트를 사용하여 하나의 통일된 프레임워크로 모든 유형의 병변의 위치를 찾을 수 있는 자동 병변 감지 알고리즘을 개발"
   ]
  },
  {
   "cell_type": "markdown",
   "metadata": {},
   "source": [
    "## Bookmark\n",
    "방사선 전문의는 영상 이미지를 보고 임상적 주석을 달고 측정한다.\n",
    "\n",
    "![bookmark](./resource/bookmark.png)"
   ]
  },
  {
   "cell_type": "markdown",
   "metadata": {},
   "source": [
    ">RECIST-diameter\n",
    ">- 두개의 선으로 구성\n",
    ">- 하나는 병변에서 가장 긴 직경을 측정\n",
    ">- 다른 하나는 측정면에서 가장 긴 직경을 측정\n",
    ">- 병변의 정확한 위치와 크기를 알수 있음"
   ]
  },
  {
   "cell_type": "markdown",
   "metadata": {},
   "source": [
    "## Image Preprocessing\n",
    "\n",
    "### CT 이미지 처리 절차\n",
    "![img_preprocessing](./resource/image/img_preprocessing.png)\n",
    "\n",
    "### Bookmark의 데이터화 \n",
    "![bookmark](./resource/image/bookmark2csv.png)\n"
   ]
  },
  {
   "cell_type": "markdown",
   "metadata": {},
   "source": [
    "### CSV파일 설명\n",
    "\n",
    "|변수명|설명|값|비고|\n",
    "|---|---|---|---|\n",
    "|File_name|파일명|string||\n",
    "|Patient_index|환자 Index|number||\n",
    "|Study_index|연구 Index</br>(환자 한 명당 1~26개 Study index 존재)|number||\n",
    "|Series_ID| Series ID|number||\n",
    "|Key_slice_index|Slice Index|number||\n",
    "|Measurement_coordinates| 병변의 RECIST 직경의 영상 좌표</br>4개의 좌표로 이루어진 8개의 값을 가진다.</br>|[x11,y11, x12, y12, x21, y21, x22, y22]|<img src=\"./resource/Measurement_coordinates.png\" width=\"300\"/>|\n",
    "|Bounding_boxes| RECIST 직경에서 추정된 병변의 경계</br>2개의 좌표로 이루어진 4개의 값을 가진다.| [x1, y1, x2, y2]|<img src=\"./resource/Bounding_boxes.png\" width=\"300\"/>|\n",
    "|Lesion_diameters_Pixel_|긴 축과 짧은 축의 길이|[장축 길이, 단축 길이]|<img src=\"./resource/RECIST.png\" width=\"300\"/>|\n",
    "|Normalized_lesion_location| 중앙의 상대적 신체 위치|[x,y,z]||\n",
    "|Coarse_lesion_type|병변의 위치. </br> train set의 병변은 -1로 표시|1:뼈(Bone)</br>2:복부(Abdomen): 간이나 신장에 없는 복강의 병변</br>3:종격(Mediastinum) : 양쪽 폐 사이의 공간</br>4:간(Liver)</br>5:폐(Lung)</br>6:신장(Kidney)</br>7:연조직(Soft tiss) : 신체벽, 근육, 피부, 지방, 사지, 머리, 목의 잡다한 병변</br>8:골반(Pelvis)||\n",
    "|Possibly_noisy| 수동 확인으로 병변에 노이즈가 있을 경우 1로 설정|0:이상없음</br>1:노이즈 존재||\n",
    "|Slice_range|Slice 범위</br>Key slice와 인접한 slice 이미지 제공 범위|Key slice가 63일때 slice image는 57부터 69까지 제공되었다.</br>[첫 slice index, 마지막 slice index]||\n",
    "|Spacing_mm_px_| pixel당 mm거리</br>x축, y축, z축 값으로 나타내며 z축은 두 slice 사이의 물리적거리| [x,y,z]||\n",
    "|Image_size|이미지 크기|[x,y]||\n",
    "|Patient_gender|환자 성별|M:남자, F:여자||\n",
    "|Patient_age|환자 나이|number||\n",
    "|Train_Val_Test|data split|1:train data</br>2:validation data</br>3:test data||\n"
   ]
  },
  {
   "cell_type": "markdown",
   "metadata": {},
   "source": [
    "## 신경망분석\n",
    "![froc1](./resource/image/analysis.png)"
   ]
  },
  {
   "cell_type": "markdown",
   "metadata": {},
   "source": [
    "## FROC를 통한 모형 예측 평가\n",
    "### 병변 유형별 FROC\n",
    "![froc1](./resource/image/froc1.png)"
   ]
  },
  {
   "cell_type": "markdown",
   "metadata": {},
   "source": [
    "### 병변 크기별 FROC\n",
    "![froc1](./resource/image/froc2.png)"
   ]
  },
  {
   "cell_type": "markdown",
   "metadata": {},
   "source": [
    "## 해당 연구의 한계\n",
    "* 겹쳐진 병변의 분할 \n",
    "* 3차원 경계상자 미사용\n",
    "* CT 이미지에는 대표적인 병변만 표시 되었으므로, 일부 CT이미지에는 병변이 있음에도 주석 되지 않음"
   ]
  }
 ],
 "metadata": {
  "kernelspec": {
   "display_name": "Python 3",
   "language": "python",
   "name": "python3"
  },
  "language_info": {
   "codemirror_mode": {
    "name": "ipython",
    "version": 3
   },
   "file_extension": ".py",
   "mimetype": "text/x-python",
   "name": "python",
   "nbconvert_exporter": "python",
   "pygments_lexer": "ipython3",
   "version": "3.7.3"
  }
 },
 "nbformat": 4,
 "nbformat_minor": 2
}
