{
 "cells": [
  {
   "cell_type": "markdown",
   "metadata": {},
   "source": [
    "## DeepLesion: automated mining of large-scale lesion annotations and universal lesion detection with deep learning\n",
    "### Ke Yan$^{a}$, Xiaosong Wang$^{a}$, Le Lu$^{b}$, Ronald M. Summers$^{a}$\n",
    "#### $^{a}$ National Institutes of Health, Clinical Center, Imaging Biomarkers and Computer-Aided Diagnosis Laboratory, Bethesda, Maryland, United States\n",
    "#### $^{b}$ National Institutes of Health, Clinical Center, Clinical Image Processing Service, Radiology and Imaging Sciences, Bethesda, Maryland, United States\n",
    "\n",
    " Journal of Medical Imaging\n",
    " \n",
    " Paper 18043R received Mar. 7, 2018; accepted for publication Jun. 14, 2018.\n",
    " \n",
    "---"
   ]
  },
  {
   "cell_type": "markdown",
   "metadata": {},
   "source": [
    "## DeepLesion Dataset\n",
    "DeepLesion은 미국 국립 보건원(NIH)의 PACS를 이용하여 RECIST(Response evaluation criteria in solid tumors)를 바탕으로 구축되었으며, 영상의학과 전문의들이 영상 결과를 측정하기 위해 매일 작업하는 동안 표시한 자료이다.\n",
    "\n",
    "2018년 7월, 미국 국립 보건원(NIH)의 임상센터에서 병변의 탐지 정확도를 높이는 데 도움이 되도록 무료로 이용할수 있도록 공개한 4,400명의 환자들을 통해 만들어진 32,000개의 CT이미지 Data set이다.\n",
    "\n",
    "- Data : https://nihcc.app.box.com/v/DeepLesion/"
   ]
  },
  {
   "cell_type": "markdown",
   "metadata": {},
   "source": [
    "## Bookmark\n",
    "영상의학과 전문의는 영상 이미지를 보고 임상적 주석을 달고 측정한다.\n",
    "\n",
    "![bookmark](./resource/bookmark.png)"
   ]
  },
  {
   "cell_type": "markdown",
   "metadata": {},
   "source": [
    ">RECIST-diameter\n",
    ">- 두개의 선으로 구성\n",
    ">- 하나는 병변에서 가장 긴 직경을 측정\n",
    ">- 다른 하나는 측정면에서 가장 긴 직경을 측정\n",
    ">- 병변의 정확한 위치와 크기를 알수 있음"
   ]
  },
  {
   "cell_type": "markdown",
   "metadata": {},
   "source": [
    "## Image Preprocessing\n",
    "\n",
    "### CT 이미지 처리 절차\n",
    "![img_preprocessing](./resource/image/img_preprocessing.png)\n",
    "\n",
    "### Bookmark의 데이터화 \n",
    "![bookmark](./resource/image/bookmark2csv.png)\n"
   ]
  },
  {
   "cell_type": "markdown",
   "metadata": {},
   "source": [
    "### CSV파일 설명\n",
    "\n",
    "|변수명|설명|값|비고|\n",
    "|---|---|---|---|\n",
    "|File_name|파일명|string||\n",
    "|Patient_index|환자 Index|number||\n",
    "|Study_index|연구 Index|number||\n",
    "|Series_ID| Series ID|number||\n",
    "|Key_slice_index|Slice Index|number||\n",
    "|Measurement_coordinates| 병변의 RECIST 직경의 영상 좌표|[x11,y11, x12, y12, x21, y21, x22, y22]|<img src=\"./resource/Measurement_coordinates.png\" width=\"300\"/>|\n",
    "|Bounding_boxes| RECIST 직경에서 추정된 병변의 경계| [x1, y1, x2, y2]|<img src=\"./resource/Bounding_boxes.png\" width=\"300\"/>|\n",
    "|Lesion_diameters_Pixel_|긴 축과 짧은 축의 길이|[장축 길이, 단축 길이]|<img src=\"./resource/RECIST.png\" width=\"300\"/>|\n",
    "|Normalized_lesion_location| 중앙의 상대적 신체 위치|[x,y,z]||\n",
    "|Coarse_lesion_type|병변의 유형|1:뼈(Bone) 2:복부(Abdomen): 간이나 신장에 없는 복강의 병변 3:종격(Mediastinum) : 양쪽 폐 사이의 공간 4:간(Liver) 5:폐(Lung) 6:신장(Kidney) 7:연조직(Soft tiss) : 신체벽, 근육, 피부, 지방, 사지, 머리, 목의 잡다한 병변 8:골반(Pelvis)||\n",
    "|Possibly_noisy| 수동 확인으로 병변에 노이즈가 있을 경우 1로 설정|0:이상없음 1:노이즈 존재||\n",
    "|Slice_range|Slice 범위(Key slice와 인접한 slice 이미지 제공 범위)|Bookmark가 표기된 Key slice가 63일때 slice image는 57부터 69까지 제공되었다. [첫 slice index, 마지막 slice index]||\n",
    "|Spacing_mm_px_| pixel당 mm거리| [x,y,z]||\n",
    "|Image_size|이미지 크기|[x,y]||\n",
    "|Patient_gender|환자 성별|M:남자, F:여자||\n",
    "|Patient_age|환자 나이|number||\n",
    "|Train_Val_Test|data split|1:train data 2:validation data 3:test data||\n"
   ]
  },
  {
   "cell_type": "markdown",
   "metadata": {},
   "source": [
    "### CSV파일 Data Preview"
   ]
  },
  {
   "cell_type": "code",
   "execution_count": 3,
   "metadata": {},
   "outputs": [
    {
     "data": {
      "text/html": [
       "<div>\n",
       "<style scoped>\n",
       "    .dataframe tbody tr th:only-of-type {\n",
       "        vertical-align: middle;\n",
       "    }\n",
       "\n",
       "    .dataframe tbody tr th {\n",
       "        vertical-align: top;\n",
       "    }\n",
       "\n",
       "    .dataframe thead th {\n",
       "        text-align: right;\n",
       "    }\n",
       "</style>\n",
       "<table border=\"1\" class=\"dataframe\">\n",
       "  <thead>\n",
       "    <tr style=\"text-align: right;\">\n",
       "      <th></th>\n",
       "      <th>File_name</th>\n",
       "      <th>Patient_index</th>\n",
       "      <th>Study_index</th>\n",
       "      <th>Series_ID</th>\n",
       "      <th>Key_slice_index</th>\n",
       "      <th>Measurement_coordinates</th>\n",
       "      <th>Bounding_boxes</th>\n",
       "      <th>Lesion_diameters_Pixel_</th>\n",
       "      <th>Normalized_lesion_location</th>\n",
       "      <th>Coarse_lesion_type</th>\n",
       "      <th>Possibly_noisy</th>\n",
       "      <th>Slice_range</th>\n",
       "      <th>Spacing_mm_px_</th>\n",
       "      <th>Image_size</th>\n",
       "      <th>DICOM_windows</th>\n",
       "      <th>Patient_gender</th>\n",
       "      <th>Patient_age</th>\n",
       "      <th>Train_Val_Test</th>\n",
       "    </tr>\n",
       "  </thead>\n",
       "  <tbody>\n",
       "    <tr>\n",
       "      <th>9709</th>\n",
       "      <td>000900_03_02_499.png</td>\n",
       "      <td>900</td>\n",
       "      <td>3</td>\n",
       "      <td>2</td>\n",
       "      <td>499</td>\n",
       "      <td>367.401, 275.298, 377.489, 259.07, 377.489, 27...</td>\n",
       "      <td>361.963, 254.07, 382.489, 280.298</td>\n",
       "      <td>19.1075, 12.1861</td>\n",
       "      <td>0.742544, 0.467315, 0.795651</td>\n",
       "      <td>-1</td>\n",
       "      <td>0</td>\n",
       "      <td>469, 529</td>\n",
       "      <td>0.898438, 0.898438, 1</td>\n",
       "      <td>512, 512</td>\n",
       "      <td>-1500, 500</td>\n",
       "      <td>M</td>\n",
       "      <td>76.0</td>\n",
       "      <td>1</td>\n",
       "    </tr>\n",
       "    <tr>\n",
       "      <th>28133</th>\n",
       "      <td>003503_03_01_075.png</td>\n",
       "      <td>3503</td>\n",
       "      <td>3</td>\n",
       "      <td>1</td>\n",
       "      <td>75</td>\n",
       "      <td>248.963, 148.301, 266.612, 152.876, 254.846, 1...</td>\n",
       "      <td>243.963, 140.686, 271.612, 163.759</td>\n",
       "      <td>18.2322, 13.5053</td>\n",
       "      <td>0.48273, 0.236979, 0.677262</td>\n",
       "      <td>-1</td>\n",
       "      <td>0</td>\n",
       "      <td>69, 81</td>\n",
       "      <td>0.779297, 0.779297, 5</td>\n",
       "      <td>512, 512</td>\n",
       "      <td>-175, 275</td>\n",
       "      <td>M</td>\n",
       "      <td>53.0</td>\n",
       "      <td>1</td>\n",
       "    </tr>\n",
       "    <tr>\n",
       "      <th>30853</th>\n",
       "      <td>003996_01_01_087.png</td>\n",
       "      <td>3996</td>\n",
       "      <td>1</td>\n",
       "      <td>1</td>\n",
       "      <td>87</td>\n",
       "      <td>159.071, 306.988, 173.507, 323.307, 162.21, 31...</td>\n",
       "      <td>154.071, 301.988, 178.507, 328.307</td>\n",
       "      <td>21.7872, 10.8936</td>\n",
       "      <td>0.274995, 0.558, 0.719856</td>\n",
       "      <td>8</td>\n",
       "      <td>0</td>\n",
       "      <td>81, 93</td>\n",
       "      <td>0.691406, 0.691406, 5</td>\n",
       "      <td>512, 512</td>\n",
       "      <td>-175, 275</td>\n",
       "      <td>F</td>\n",
       "      <td>25.0</td>\n",
       "      <td>3</td>\n",
       "    </tr>\n",
       "    <tr>\n",
       "      <th>1864</th>\n",
       "      <td>000199_01_01_037.png</td>\n",
       "      <td>199</td>\n",
       "      <td>1</td>\n",
       "      <td>1</td>\n",
       "      <td>37</td>\n",
       "      <td>260.954, 254.496, 234.328, 241.802, 245.164, 2...</td>\n",
       "      <td>229.328, 234.945, 265.954, 259.496</td>\n",
       "      <td>29.4969, 16.9379</td>\n",
       "      <td>0.486292, 0.466682, 0.445799</td>\n",
       "      <td>-1</td>\n",
       "      <td>0</td>\n",
       "      <td>31, 52</td>\n",
       "      <td>0.9375, 0.9375, 5</td>\n",
       "      <td>512, 512</td>\n",
       "      <td>-175, 275</td>\n",
       "      <td>M</td>\n",
       "      <td>59.0</td>\n",
       "      <td>1</td>\n",
       "    </tr>\n",
       "    <tr>\n",
       "      <th>17535</th>\n",
       "      <td>001868_04_01_103.png</td>\n",
       "      <td>1868</td>\n",
       "      <td>4</td>\n",
       "      <td>1</td>\n",
       "      <td>103</td>\n",
       "      <td>251.455, 267.634, 250.797, 329.462, 227.764, 3...</td>\n",
       "      <td>222.764, 262.634, 287.08, 334.462</td>\n",
       "      <td>61.8309, 54.3187</td>\n",
       "      <td>0.479897, 0.629103, 0.830103</td>\n",
       "      <td>-1</td>\n",
       "      <td>0</td>\n",
       "      <td>93, 109</td>\n",
       "      <td>0.898438, 0.898438, 5</td>\n",
       "      <td>512, 512</td>\n",
       "      <td>-175, 275</td>\n",
       "      <td>F</td>\n",
       "      <td>43.0</td>\n",
       "      <td>1</td>\n",
       "    </tr>\n",
       "  </tbody>\n",
       "</table>\n",
       "</div>"
      ],
      "text/plain": [
       "                  File_name  Patient_index  Study_index  Series_ID  \\\n",
       "9709   000900_03_02_499.png            900            3          2   \n",
       "28133  003503_03_01_075.png           3503            3          1   \n",
       "30853  003996_01_01_087.png           3996            1          1   \n",
       "1864   000199_01_01_037.png            199            1          1   \n",
       "17535  001868_04_01_103.png           1868            4          1   \n",
       "\n",
       "       Key_slice_index                            Measurement_coordinates  \\\n",
       "9709               499  367.401, 275.298, 377.489, 259.07, 377.489, 27...   \n",
       "28133               75  248.963, 148.301, 266.612, 152.876, 254.846, 1...   \n",
       "30853               87  159.071, 306.988, 173.507, 323.307, 162.21, 31...   \n",
       "1864                37  260.954, 254.496, 234.328, 241.802, 245.164, 2...   \n",
       "17535              103  251.455, 267.634, 250.797, 329.462, 227.764, 3...   \n",
       "\n",
       "                           Bounding_boxes Lesion_diameters_Pixel_  \\\n",
       "9709    361.963, 254.07, 382.489, 280.298        19.1075, 12.1861   \n",
       "28133  243.963, 140.686, 271.612, 163.759        18.2322, 13.5053   \n",
       "30853  154.071, 301.988, 178.507, 328.307        21.7872, 10.8936   \n",
       "1864   229.328, 234.945, 265.954, 259.496        29.4969, 16.9379   \n",
       "17535   222.764, 262.634, 287.08, 334.462        61.8309, 54.3187   \n",
       "\n",
       "         Normalized_lesion_location  Coarse_lesion_type  Possibly_noisy  \\\n",
       "9709   0.742544, 0.467315, 0.795651                  -1               0   \n",
       "28133   0.48273, 0.236979, 0.677262                  -1               0   \n",
       "30853     0.274995, 0.558, 0.719856                   8               0   \n",
       "1864   0.486292, 0.466682, 0.445799                  -1               0   \n",
       "17535  0.479897, 0.629103, 0.830103                  -1               0   \n",
       "\n",
       "      Slice_range         Spacing_mm_px_ Image_size DICOM_windows  \\\n",
       "9709     469, 529  0.898438, 0.898438, 1   512, 512    -1500, 500   \n",
       "28133      69, 81  0.779297, 0.779297, 5   512, 512     -175, 275   \n",
       "30853      81, 93  0.691406, 0.691406, 5   512, 512     -175, 275   \n",
       "1864       31, 52      0.9375, 0.9375, 5   512, 512     -175, 275   \n",
       "17535     93, 109  0.898438, 0.898438, 5   512, 512     -175, 275   \n",
       "\n",
       "      Patient_gender  Patient_age  Train_Val_Test  \n",
       "9709               M         76.0               1  \n",
       "28133              M         53.0               1  \n",
       "30853              F         25.0               3  \n",
       "1864               M         59.0               1  \n",
       "17535              F         43.0               1  "
      ]
     },
     "execution_count": 3,
     "metadata": {},
     "output_type": "execute_result"
    }
   ],
   "source": [
    "import pandas as pd\n",
    "\n",
    "csv_path = 'DL_info.csv'\n",
    "info_df = pd.read_csv(csv_path)\n",
    "\n",
    "info_df.sample(5)"
   ]
  },
  {
   "cell_type": "code",
   "execution_count": 6,
   "metadata": {},
   "outputs": [
    {
     "data": {
      "text/plain": [
       "<matplotlib.axes._subplots.AxesSubplot at 0x17b3190f940>"
      ]
     },
     "execution_count": 6,
     "metadata": {},
     "output_type": "execute_result"
    },
    {
     "data": {
      "image/png": "[encoded data removed]",
      "text/plain": [
       "<Figure size 432x288 with 1 Axes>"
      ]
     },
     "metadata": {},
     "output_type": "display_data"
    }
   ],
   "source": [
    "%matplotlib inline\n",
    "info_df['Patient_age'].plot(kind='hist')"
   ]
  },
  {
   "cell_type": "code",
   "execution_count": 31,
   "metadata": {},
   "outputs": [
    {
     "data": {
      "text/plain": [
       "<matplotlib.axes._subplots.AxesSubplot at 0x17b3213d320>"
      ]
     },
     "execution_count": 31,
     "metadata": {},
     "output_type": "execute_result"
    },
    {
     "data": {
      "image/png": "[encoded data removed]",
      "text/plain": [
       "<Figure size 432x288 with 1 Axes>"
      ]
     },
     "metadata": {},
     "output_type": "display_data"
    }
   ],
   "source": [
    "info_df['Patient_gender'] = info_df['Patient_gender'].astype('category')\n",
    "info_df['Patient_gender'].value_counts(normalize=True).plot(kind='bar', rot=0)"
   ]
  },
  {
   "cell_type": "markdown",
   "metadata": {},
   "source": [
    "## 신경망분석\n",
    "![froc1](./resource/image/map2.png)"
   ]
  },
  {
   "cell_type": "markdown",
   "metadata": {},
   "source": [
    "## free receiver operating characteristic curve(FROC)를 통한 모형 예측 평가"
   ]
  },
  {
   "cell_type": "markdown",
   "metadata": {},
   "source": [
    "![froc1](./resource/image/froc2.png)"
   ]
  },
  {
   "cell_type": "markdown",
   "metadata": {},
   "source": [
    "## 해당 연구의 한계 및 제안\n",
    "* 겹쳐진 병변의 분할 \n",
    "* 3차원 경계상자 미사용\n",
    "* CT 이미지에는 대표적인 병변만 표시 되었으므로, 일부 CT이미지에는 병변이 있음에도 주석 되지 않음"
   ]
  }
 ],
 "metadata": {
  "kernelspec": {
   "display_name": "Python 3",
   "language": "python",
   "name": "python3"
  },
  "language_info": {
   "codemirror_mode": {
    "name": "ipython",
    "version": 3
   },
   "file_extension": ".py",
   "mimetype": "text/x-python",
   "name": "python",
   "nbconvert_exporter": "python",
   "pygments_lexer": "ipython3",
   "version": "3.6.5"
  }
 },
 "nbformat": 4,
 "nbformat_minor": 2
}
