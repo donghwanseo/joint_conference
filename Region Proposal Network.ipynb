{
 "cells": [
  {
   "cell_type": "markdown",
   "metadata": {},
   "source": [
    "## R-CNN\n",
    "---\n",
    "![rcnn](./resource/rcnn.png)\n",
    "* Regional Proposal + CNN\n",
    "* Regional proposal을 얻기 위해 selective search 사용\n",
    "* 각 Region에 대해 classification와 bounding box regression 실시(= 많은 계산 필요)"
   ]
  },
  {
   "cell_type": "markdown",
   "metadata": {},
   "source": [
    "## Fast R-CNN\n",
    "---\n",
    "![rcnn](./resource/fastrcnn.png)\n",
    "* Regional proposal을 얻기 위해 selective search 사용\n",
    "* Region들이 convolution layer를 공유"
   ]
  },
  {
   "cell_type": "markdown",
   "metadata": {},
   "source": [
    "## Faster R-CNN\n",
    "---\n",
    "![rcnn](./resource/fasterrcnn.png)\n",
    "* RPN + Fast CNN"
   ]
  },
  {
   "cell_type": "markdown",
   "metadata": {},
   "source": [
    "## Region Proposal Network\n",
    "---"
   ]
  },
  {
   "cell_type": "markdown",
   "metadata": {},
   "source": [
    "![rpn](./resource/rpn.png)"
   ]
  }
 ],
 "metadata": {
  "kernelspec": {
   "display_name": "Python 3",
   "language": "python",
   "name": "python3"
  },
  "language_info": {
   "codemirror_mode": {
    "name": "ipython",
    "version": 3
   },
   "file_extension": ".py",
   "mimetype": "text/x-python",
   "name": "python",
   "nbconvert_exporter": "python",
   "pygments_lexer": "ipython3",
   "version": "3.7.3"
  }
 },
 "nbformat": 4,
 "nbformat_minor": 2
}
